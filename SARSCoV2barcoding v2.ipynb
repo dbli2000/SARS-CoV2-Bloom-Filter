{
 "cells": [
  {
   "cell_type": "markdown",
   "metadata": {},
   "source": [
    "# Overview\n",
    "- Plug in parameters in parameter box, can run simulations immediately\n",
    "    - Minimal use case: Run through section titled \"Simulation with Parameters Chosen Above\", skipping optional section if desired\n",
    "    - Have to set \"parallelized = False\" to skip optional section\n",
    "- Script meant to calculate error rates given sample skewing and barcode loss, in a generalizable way \n",
    "    - Perfect encoding written as lossless discrete encoder\n",
    "    - Barcode loss modeled in a lossy discrete encoder\n",
    "    - Sample skewing modeled in a lossless continuous encoder\n",
    "    - Both barcode loss and sample skewing modeled in a lossy continuous encoder\n",
    "- Have the option to run in a parallelized manner, for faster simulations\n",
    "    - Goes from ~3 minutes to <1 minute for 1000 iterations with b=100,000, m = 10,000, m2 =10 on MacBook Pro"
   ]
  },
  {
   "cell_type": "markdown",
   "metadata": {},
   "source": [
    "# Approach\n",
    "## Modularization\n",
    "Break into many transformations:\n",
    "\n",
    "- Module 1: Patient samples viral load -> RT-LAMP molecules -> PCR molecules -> Gets pooled into sequencing\n",
    "- Module 2: Sequencing reads -> thresholded to produce binary output\n",
    "- Module 3: Binary output (0 or 1 for each barcode) -> Naive decoder for k' out of k. \n",
    "\n",
    "Initial focus is on last two modules, modeling the first module requires experimental data.\n",
    "\n",
    "## Module 2 Model\n",
    "\n",
    "Currently, molecules to be sequenced are modeled as:\n",
    "- having amplified initial viral titer loads, log normal distribution with mean = 4.5, std = 3\n",
    "- having saturating amplification functions, normalizing initial viral titer loads, normal distribution with mean 10000, std 1000\n",
    "\n",
    "To go from post-PCR molecules to binary output:\n",
    "- Fractional abundance for each barcode calculated by dividing by total number of molecules for a subbatch is computed\n",
    "- If fractional abundance for a barcode * total good reads per subbatch > threshold, 1. Otherwise, 0. \n",
    "\n",
    "\n",
    "\n",
    "## To Do\n",
    "- Characterize real transformations for module 1 (experimentally)\n",
    "- Implement possibility for some people to have extra barcodes/less than expected due to liquid handling error\n",
    "- Build a heatmap for FNPs/FPPs dependent on parameters for distribution of post-PCR molecules (mean, std)"
   ]
  },
  {
   "cell_type": "code",
   "execution_count": 1,
   "metadata": {},
   "outputs": [
    {
     "name": "stdout",
     "output_type": "stream",
     "text": [
      "Requirement already satisfied: tqdm in /Users/dli/opt/anaconda3/lib/python3.7/site-packages (4.44.1)\n",
      "Note: you may need to restart the kernel to use updated packages.\n",
      "Requirement already satisfied: multiprocess in /Users/dli/.local/lib/python3.7/site-packages (0.70.9)\n",
      "Requirement already satisfied: dill>=0.3.1 in /Users/dli/.local/lib/python3.7/site-packages (from multiprocess) (0.3.1.1)\n",
      "Note: you may need to restart the kernel to use updated packages.\n"
     ]
    }
   ],
   "source": [
    "#Check for/install dependencies, may need to restart kernel after\n",
    "%pip install --user tqdm\n",
    "%pip install --user multiprocess"
   ]
  },
  {
   "cell_type": "code",
   "execution_count": 2,
   "metadata": {},
   "outputs": [],
   "source": [
    "#Import useful general  libraries\n",
    "import numpy as np\n",
    "import random\n",
    "from random import seed\n",
    "from random import randint\n",
    "from tqdm.notebook import tnrange,tqdm_notebook, tqdm\n",
    "\n",
    "#Packages for data analysis/stats\n",
    "import pandas as pd\n",
    "from scipy import stats\n",
    "from sklearn.metrics import roc_auc_score, confusion_matrix\n",
    "\n",
    "#Packages for plotting\n",
    "import matplotlib\n",
    "import matplotlib.pyplot as plt\n",
    "import seaborn as sns\n",
    "sns.set(color_codes=True)"
   ]
  },
  {
   "cell_type": "code",
   "execution_count": 3,
   "metadata": {},
   "outputs": [],
   "source": [
    "#General parameters \n",
    "prob = 0.01 #Percent of population infected\n",
    "m = 10000 #Number of barcode 1s\n",
    "m2 = 10 #Number of barcode 2s\n",
    "b = 100000 #Number of patient samples per batch\n",
    "k = 5 #Number of barcode 1s per patient sample\n",
    "kprime = 3 #Number of barcode 1s required to call sample positive\n",
    "scenario = 2 #Either 1 or 2, for the two scenarios described in the text\n",
    "b2 = int(b/m2) #Number of patient samples per subbatch (with a rounding error)\n",
    "n = int(np.ceil(b2*prob)) #Number of positive samples per subbatch (with a rounding error)\n",
    "encoderchoice = 1 #Which encoder to use - 0 is discrete, 1 is discrete lossy, 2 is continuous, 3 is continuous lossy\n",
    "iters = 1000 #Number of iterations to run things\n",
    "parallelized = True #Parallelized (True) or non-parallized computation (False) [OPTIONAL]\n",
    "\n",
    "#Parameters for barcode loss (discretelossyencoder, continuouslossyencoder)\n",
    "dsynth = 0.01 #Proportion of barcode 1s that always fail\n",
    "dstoch = 0.05 #Proportion of stochastic barcode 1 failure\n",
    "\n",
    "#Parameters for sample skewing (continuouslosslessencoder, continuouslossyencoder)\n",
    "setting = \"Amp\" #Either \"Amp\" or \"Sat\" describing models Amplified and Saturated respectively\n",
    "mean = 4.5 #10000 #Mean of distribution of molecules\n",
    "std = 3 #1000 #Standard deviation of distribution of molecules\n",
    "\n",
    "#Parameters for read thresholding (thresholdcontinuous)\n",
    "totalreads = 2*(10**8) #Reads per illumina run\n",
    "readspersubbatch = totalreads/m2 #Reads per subbatch\n",
    "propnoise = 0.1 #Proportion of reads that are junk\n",
    "goodreads = int(np.ceil((1-propnoise)*readspersubbatch)) #Number of good reads per subbatch (with a rounding error)\n",
    "threshold = 200 #Reads required to call a sample positive"
   ]
  },
  {
   "cell_type": "markdown",
   "metadata": {},
   "source": [
    "# Helper Functions"
   ]
  },
  {
   "cell_type": "code",
   "execution_count": 4,
   "metadata": {},
   "outputs": [],
   "source": [
    "#Functions for encoding from patient vector to barcode vector (continuous or discrete)\n",
    "#All functions run in O(b2) time with O(m) memory (assuming b2 >= m)\n",
    "\n",
    "def discretelosslessencoder(truth, m, k, scenario):\n",
    "    '''\n",
    "    Function takes np array of which patient samples are pos/neg and returns np array of which barcodes are pos/neg\n",
    "    Hashing/assignment here is approximated by a RNG, being kept track of by patient sample index = seed\n",
    "    \n",
    "    Inputs:\n",
    "        truth - ground truth matrix of patient samples (1 x b2), n of which are 1\n",
    "        m - number of barcode 1s\n",
    "        k - number of barcode 1s per patient sample\n",
    "        scenario - either 1 or 2, describes which scenario chosen\n",
    "    \n",
    "    Outputs:\n",
    "        barcodes - array (1 x m), 0 if negative, 1 if positive\n",
    "    '''\n",
    "    #Initialize barcode matrix\n",
    "    barcodes = np.zeros((1, m)).astype(int)\n",
    "    \n",
    "    #Iterate through samples in truth and set corresponding barcodes to 1\n",
    "    (truth1, truth2) = truth.shape\n",
    "    for samp in range(truth2):\n",
    "        if truth[0, samp] == 1: #If sample was positive\n",
    "            seed(samp) #Set seed to RNG as sample index\n",
    "            for bc in range(k):\n",
    "                if scenario == 1:\n",
    "                    bcindex = samp #Generate barcode index for scenario 1\n",
    "                elif scenario == 2:\n",
    "                    bcindex = randint(0, m-1) #Generate barcode index for scenario 2\n",
    "                    randomprob = random.random() #For consistent hashes with lossy encoder\n",
    "                barcodes[0, bcindex]=1 #Set barcode to 1            \n",
    "    \n",
    "    #Return final vector\n",
    "    return barcodes\n",
    "\n",
    "def discretelossyencoder(truth, m, k, scenario, dsynth, dstoch):\n",
    "    '''\n",
    "    Function takes np array of which patient samples are pos/neg and returns np array of which barcodes are pos/neg\n",
    "    Hashing/assignment here is approximated by a RNG, being kept track of by patient sample index = seed\n",
    "    Includes error where some barcodes always fail and some barcodes stochastically fail\n",
    "    \n",
    "    Inputs:\n",
    "        truth - ground truth matrix of patient samples (1 x b2), n of which are 1\n",
    "        m - number of barcode 1s\n",
    "        k - number of barcode 1s per patient sample\n",
    "        scenario - either 1 or 2, describes which scenario chosen\n",
    "        dsynth - proportion of barcode 1s that always fail\n",
    "        dstoch - proportion of stochastic barcode 1 failure\n",
    "    \n",
    "    Outputs:\n",
    "        barcodes - array (1 x m), 0 if negative, 1 if positive\n",
    "    '''\n",
    "    #Initialize barcode matrix\n",
    "    barcodes = np.zeros((1, m)).astype(int)\n",
    "    \n",
    "    #Iterate through samples in truth and set corresponding barcodes to 1, accounting for dstoch\n",
    "    (truth1, truth2) = truth.shape\n",
    "    for samp in range(truth2):\n",
    "        if truth[0, samp] == 1: #If sample was positive\n",
    "            seed(samp) #Set seed to RNG as sample index\n",
    "            for bc in range(k):\n",
    "                if scenario == 1:\n",
    "                    bcindex = samp #Generate barcode index for scenario 1\n",
    "                elif scenario == 2:\n",
    "                    bcindex = randint(0, m-1) #Generate barcode index for scenario 2\n",
    "                randomprob = random.random() #For consistent hashes with lossy encoder\n",
    "                if randomprob >= dstoch: #Fails dstoch proportion of the time\n",
    "                    barcodes[0, bcindex]=1 #Set barcode to 1         \n",
    "    \n",
    "    #Now, we deal with dsynth\n",
    "    numzeros = int(np.ceil(m*dsynth)) #Calculate number of barcodes that always fail (with a rounding error)\n",
    "    index_list = [] #Generate indices that should be 0\n",
    "    while len(index_list) < numzeros:\n",
    "        random_index = randint(0, m-1)\n",
    "        if random_index not in index_list:\n",
    "            index_list.append(random_index)\n",
    "    for position in index_list: #Set those indices to 0\n",
    "        barcodes[0, position] = 0\n",
    "                \n",
    "    #Return final vector\n",
    "    return barcodes\n",
    "\n",
    "def continuouslosslessencoder(truth, m, k, scenario, setting, mean, std):\n",
    "    '''\n",
    "    Function takes np array of which patient samples are pos/neg and returns np array of barcode counts\n",
    "    Hashing/assignment here is approximated by a RNG, being kept track of by patient sample index = seed\n",
    "    \n",
    "    Inputs:\n",
    "        truth - ground truth matrix of patient samples (1 x b2), n of which are 1\n",
    "        m - number of barcode 1s\n",
    "        k - number of barcode 1s per patient sample\n",
    "        scenario - either 1 or 2, describes which scenario chosen\n",
    "        setting - distribution model, either \"Amp\" or \"Saturated\"\n",
    "        mean - mean of molecule distribution \n",
    "        std - standard deviation of molecule distribution\n",
    "    \n",
    "    Outputs:\n",
    "        barcodecounts - array (1 x m), contains counts per barcode\n",
    "    '''\n",
    "    #Generate barcodereads matrix\n",
    "    barcodecounts = np.zeros((1, m))\n",
    "    \n",
    "    #Iterate through samples in truth and set corresponding barcodes to readcount\n",
    "    (truth1, truth2) = truth.shape\n",
    "    for samp in range(truth2):\n",
    "        if truth[0, samp] == 1: #If sample was positive\n",
    "            #Generate molecule number\n",
    "            if setting == \"Amp\":\n",
    "                moleculenumber=np.random.lognormal(mean, std, size=None)\n",
    "            elif setting == \"Sat\":\n",
    "                moleculenumber=np.random.normal(mean, std, size=None)  \n",
    "            seed(samp) #Set seed to RNG as sample index\n",
    "            for bc in range(k):\n",
    "                #Generate barcode index\n",
    "                if scenario == 1:\n",
    "                    bcindex = samp #Generate for scenario 1\n",
    "                elif scenario == 2:\n",
    "                    bcindex = randint(0, m-1) #Generate for scenario 2\n",
    "                    randomprob = random.random() #For consistent hashes with lossy encoder\n",
    "                barcodecounts[0, bcindex]+=moleculenumber           \n",
    "    \n",
    "    #Return final vector\n",
    "    return barcodecounts\n",
    "\n",
    "def continuouslossyencoder(truth, m, k, scenario, setting, mean, std, dsynth, dstoch):\n",
    "    '''\n",
    "    Function takes np array of which patient samples are pos/neg and returns np array of barcode reads\n",
    "    Hashing/assignment here is approximated by a RNG, being kept track of by patient sample index = seed\n",
    "    \n",
    "    Inputs:\n",
    "        truth - ground truth matrix of patient samples (1 x b2), n of which are 1\n",
    "        m - number of barcode 1s\n",
    "        k - number of barcode 1s per patient sample\n",
    "        scenario - either 1 or 2, describes which scenario chosen\n",
    "        setting - distribution model, either \"Amp\" or \"Saturated\"\n",
    "        mean - mean of molecule distribution \n",
    "        std - standard deviation of molecule distribution\n",
    "        dsynth - proportion of barcode 1s that always fail\n",
    "        dstoch - proportion of stochastic barcode 1 failure\n",
    "    \n",
    "    Outputs:\n",
    "        barcodecounts - array (1 x m), contains reads per barcode\n",
    "    '''\n",
    "    #Generate barcodereads matrix\n",
    "    barcodecounts = np.zeros((1, m))\n",
    "    \n",
    "    #Iterate through samples in truth and set corresponding barcodes to readcount, accounting for dstoch\n",
    "    (truth1, truth2) = truth.shape\n",
    "    for samp in range(truth2):\n",
    "        if truth[0, samp] == 1: #If sample was positive\n",
    "            #Generate molecule number\n",
    "            if setting == \"Amp\":\n",
    "                moleculenumber=np.random.lognormal(mean, std, size=None)\n",
    "            elif setting == \"Sat\":\n",
    "                moleculenumber=np.random.normal(mean, std, size=None)\n",
    "            seed(samp) #Set seed to RNG as sample index\n",
    "            for bc in range(k):\n",
    "                #Generate barcode index\n",
    "                if scenario == 1:\n",
    "                    bcindex = samp #Generate for scenario 1\n",
    "                elif scenario == 2:\n",
    "                    bcindex = randint(0, m-1) #Generate for scenario 2\n",
    "                randomprob = random.random() #For consistent hashes with lossy encoder\n",
    "                if randomprob >= dstoch: #Fails dstoch proportion of the time\n",
    "                    barcodecounts[0, bcindex]+=moleculenumber           \n",
    "\n",
    "    #Now, we deal with dsynth\n",
    "    numzeros = int(np.ceil(m*dsynth)) #Calculate number of barcodes that always fail (with a rounding error)\n",
    "    index_list = [] #Generate indices that should be 0\n",
    "    while len(index_list) < numzeros:\n",
    "        random_index = randint(0, m-1)\n",
    "        if random_index not in index_list:\n",
    "            index_list.append(random_index)\n",
    "    for position in index_list: #Set those indices to 0\n",
    "        barcodecounts[0, position] = 0                    \n",
    "                    \n",
    "    #Return final vector\n",
    "    return barcodecounts"
   ]
  },
  {
   "cell_type": "code",
   "execution_count": 5,
   "metadata": {},
   "outputs": [],
   "source": [
    "#Functions for decoding from barcode vector to inferred patient vector, calculating FPPs/FNPs\n",
    "\n",
    "def thresholdcontinuous(barcodecounts, goodreads, threshold):\n",
    "    '''\n",
    "    Function takes np array of barcode reads and returns np array of which barcodes are pos/neg\n",
    "    \n",
    "    Inputs:\n",
    "        barcodecounts - array (1 x m), contains reads per barcode\n",
    "        goodreads - number of good reads per subbatch (with a rounding error)\n",
    "        threshold - reads needed to call something positive\n",
    "    \n",
    "    Outputs:\n",
    "        thresholdedbarcodes - array (1 x m), 0 if negative, 1 if positive\n",
    "    '''\n",
    "    #Model for sequencer (barcode reads = relative abundance of barcode * total good reads)\n",
    "    barcodereads = barcodecounts/np.sum(barcodecounts)*goodreads\n",
    "    \n",
    "    #Threshold and set to 0 or 1\n",
    "    thresholdedbarcodes = np.where(barcodereads > threshold, 1, 0).astype(int)\n",
    "    \n",
    "    #Return final vector\n",
    "    return thresholdedbarcodes\n",
    "\n",
    "def naivedecoder(apparentbarcodes, b2, k, kprime, scenario):\n",
    "    '''\n",
    "    Function takes np array of which barcodes are pos/neg and returns np array of which patient samples seem pos/neg\n",
    "    Hashing/assignment here is approximated by a RNG, being kept track of by patient sample index = seed\n",
    "    \n",
    "    Inputs:\n",
    "        apparentbarcodes - array (1 x m), matrix of pos/neg barcodes\n",
    "        b2 - number of patient samples per subbatch\n",
    "        k - number of barcode 1s per patient sample\n",
    "        kprime - required number of barcode 1s positive to call a sample positive\n",
    "        scenario - either 1 or 2, describes which scenario chosen\n",
    "    \n",
    "    Outputs:\n",
    "        inferredtruth - array (1 x b2), 0 if negative, 1 if positive, decoded patient samples\n",
    "    '''\n",
    "    #Initialize barcode matrix\n",
    "    inferredtruth = np.zeros((1, b2)).astype(int)\n",
    "    \n",
    "    #Iterate through samples in truth, setting to 1 if >= k' out of k barcodes positive\n",
    "    (apparentbarcode1, apparentbarcode2) = apparentbarcodes.shape\n",
    "    for samp in range(b2):\n",
    "        seed(samp) #Set seed to RNG as sample index\n",
    "        currentsamplesum = 0\n",
    "        for bc in range(k):\n",
    "            if scenario == 1:\n",
    "                bcindex = samp #Generate barcode index for scenario 1\n",
    "            elif scenario == 2:\n",
    "                bcindex = randint(0, apparentbarcode2-1) #Generate barcode index for scenario 2\n",
    "                randomprob = random.random() #For consistent hashes with lossy encoder\n",
    "            if apparentbarcodes[0, bcindex]==1:\n",
    "                currentsamplesum += 1\n",
    "        if int(currentsamplesum) >= kprime:\n",
    "            inferredtruth[0, samp] = 1\n",
    "    return inferredtruth\n",
    "\n",
    "\n",
    "def inferenceanalysis(groundtruth, inferredtruth):\n",
    "    '''\n",
    "    Function takes np array of which patient samples truely are pos/neg and are inferred to be pos/neg\n",
    "    Returns false negative and positive probabilities\n",
    "    \n",
    "    Inputs:\n",
    "        groundtruth - array (1 x b2), 0 if negative, 1 if positive, true patient samples\n",
    "        inferredtruth - array (1 x b2), 0 if negative, 1 if positive, decoded patient samples\n",
    "        \n",
    "    Outputs:\n",
    "        [FPP, FNP] - false positive probability, false negative probability \n",
    "    '''\n",
    "    [tn, fp, fn, tp] = confusion_matrix(groundtruth[0], inferredtruth[0]).ravel()\n",
    "    return [fp/(tn+fp), fn/(fn+tp)]"
   ]
  },
  {
   "cell_type": "code",
   "execution_count": 6,
   "metadata": {},
   "outputs": [],
   "source": [
    "#Main function\n",
    "def calculateerrors(encoderchoice, iters, b2, n, m, k, scenario, dsynth, dstoch, setting, mean, std, goodreads, threshold, kprime):\n",
    "    #Initialize arrays for storing things\n",
    "    FPPs = []\n",
    "    FNPs = []\n",
    "    dropout = []\n",
    "\n",
    "    for iterations in tqdm_notebook(range(iters), desc='Iterations complete', leave=None):\n",
    "        #Initialize arrays to represent ground truth\n",
    "        initarray = np.array([0] * (b2-n) + [1] * (n))\n",
    "        np.random.shuffle(initarray)\n",
    "        groundtruth = np.array([initarray])\n",
    "\n",
    "        #Encode groundtruth into barcode vectors\n",
    "        barcodetruth = discretelosslessencoder(groundtruth, m, k, scenario)\n",
    "        if encoderchoice == 0:\n",
    "            barcodes = discretelosslessencoder(groundtruth, m, k, scenario)\n",
    "        elif encoderchoice == 1:\n",
    "            barcodes = discretelossyencoder(groundtruth, m, k, scenario, dsynth, dstoch)\n",
    "        elif encoderchoice == 2:\n",
    "            barcodecounts = continuouslosslessencoder(groundtruth, m, k, scenario, setting, mean, std)\n",
    "            barcodes = thresholdcontinuous(barcodecounts, goodreads, threshold)\n",
    "        elif encoderchoice == 3:    \n",
    "            barcodecounts = continuouslossyencoder(groundtruth, m, k, scenario, setting, mean, std, dsynth, dstoch)\n",
    "            barcodes = thresholdcontinuous(barcodecounts, goodreads, threshold)\n",
    "        else:\n",
    "            raise ValueError(\"encoderchoice not valid\")\n",
    "\n",
    "        #Decode barcode vector to recover inferred truth\n",
    "        inferredsamples = naivedecoder(barcodes, b2, k, kprime, scenario)\n",
    "\n",
    "        #Compare inferred versus ground truth and store relevant parameters\n",
    "        [FPP, FNP] = inferenceanalysis(groundtruth, inferredsamples)\n",
    "        dropout.append(np.sum(barcodetruth-barcodes))\n",
    "        FPPs.append(FPP)\n",
    "        FNPs.append(FNP)\n",
    "        \n",
    "    #Return final arrays\n",
    "    return [dropout, FPPs, FNPs]"
   ]
  },
  {
   "cell_type": "markdown",
   "metadata": {},
   "source": [
    "# Optional: Parallelized Version of Main Function"
   ]
  },
  {
   "cell_type": "code",
   "execution_count": 7,
   "metadata": {},
   "outputs": [],
   "source": [
    "#Import required packages:\n",
    "from multiprocess import Pool\n",
    "import psutil\n",
    "from functools import partial"
   ]
  },
  {
   "cell_type": "code",
   "execution_count": 8,
   "metadata": {},
   "outputs": [],
   "source": [
    "#Helper function for calculating errors of single iteration\n",
    "def singleitererrors(encoderchoice, b2, n, m, k, scenario, dsynth, dstoch, setting, mean, std, goodreads, threshold, kprime, x):\n",
    "    #Initialize arrays to represent ground truth\n",
    "    initarray = np.array([0] * (b2-n) + [1] * (n))\n",
    "    np.random.shuffle(initarray)\n",
    "    groundtruth = np.array([initarray])\n",
    "\n",
    "    #Encode groundtruth into barcode vectors\n",
    "    barcodetruth = discretelosslessencoder(groundtruth, m, k, scenario)\n",
    "    if encoderchoice == 0:\n",
    "        barcodes = discretelosslessencoder(groundtruth, m, k, scenario)\n",
    "    elif encoderchoice == 1:\n",
    "        barcodes = discretelossyencoder(groundtruth, m, k, scenario, dsynth, dstoch)\n",
    "    elif encoderchoice == 2:\n",
    "        barcodecounts = continuouslosslessencoder(groundtruth, m, k, scenario, setting, mean, std)\n",
    "        barcodes = thresholdcontinuous(barcodecounts, goodreads, threshold)\n",
    "    elif encoderchoice == 3:    \n",
    "        barcodecounts = continuouslossyencoder(groundtruth, m, k, scenario, setting, mean, std, dsynth, dstoch)\n",
    "        barcodes = thresholdcontinuous(barcodecounts, goodreads, threshold)\n",
    "    else:\n",
    "        raise ValueError(\"encoderchoice not valid\")\n",
    "\n",
    "    #Decode barcode vector to recover inferred truth\n",
    "    inferredsamples = naivedecoder(barcodes, b2, k, kprime, scenario)\n",
    "\n",
    "    #Compare inferred versus ground truth and store relevant parameters\n",
    "    [FPP, FNP] = inferenceanalysis(groundtruth, inferredsamples)\n",
    "    dropoutnumber = np.sum(barcodetruth-barcodes)\n",
    "\n",
    "    #Return values\n",
    "    return [dropoutnumber, FPP, FNP]\n",
    "\n",
    "#Main function\n",
    "def calculateerrorsparallel(encoderchoice, iters, b2, n, m, k, scenario, dsynth, dstoch, setting, mean, std, goodreads, threshold, kprime):\n",
    "    #Start pool\n",
    "    pool = Pool(psutil.cpu_count(logical=False))\n",
    "    \n",
    "    #Iterate\n",
    "    outputtransposed = list(tqdm_notebook(pool.imap_unordered(partial(singleitererrors, encoderchoice, b2, n, m, k, scenario, dsynth, dstoch, setting, mean, std, goodreads, threshold, kprime), range(iters)), total=iters, desc='Iterations complete', leave=None))\n",
    "    \n",
    "    #Close pool\n",
    "    pool.close()\n",
    "    \n",
    "    #Return final arrays\n",
    "    return np.array(list(outputtransposed)).T"
   ]
  },
  {
   "cell_type": "markdown",
   "metadata": {},
   "source": [
    "# Simulation with Parameters Chosen Above"
   ]
  },
  {
   "cell_type": "code",
   "execution_count": 9,
   "metadata": {},
   "outputs": [
    {
     "data": {
      "application/vnd.jupyter.widget-view+json": {
       "model_id": "",
       "version_major": 2,
       "version_minor": 0
      },
      "text/plain": [
       "HBox(children=(FloatProgress(value=0.0, description='Iterations complete', max=1000.0, style=ProgressStyle(des…"
      ]
     },
     "metadata": {},
     "output_type": "display_data"
    },
    {
     "name": "stdout",
     "output_type": "stream",
     "text": [
      "\n"
     ]
    }
   ],
   "source": [
    "if parallelized:\n",
    "    simulation = calculateerrorsparallel(encoderchoice, iters, b2, n, m, k, scenario, dsynth, dstoch, setting, mean, std, goodreads, threshold, kprime)\n",
    "else:\n",
    "    simulation = calculateerrors(encoderchoice, iters, b2, n, m, k, scenario, dsynth, dstoch, setting, mean, std, goodreads, threshold, kprime)\n",
    "dropout = simulation[0]\n",
    "FPPs = simulation[1]\n",
    "FNPs = simulation[2]"
   ]
  },
  {
   "cell_type": "code",
   "execution_count": 10,
   "metadata": {},
   "outputs": [
    {
     "name": "stdout",
     "output_type": "stream",
     "text": [
      "Average number of barcodes lost: 29.242\n"
     ]
    },
    {
     "data": {
      "image/png": "[encoded data removed]",
      "text/plain": [
       "<Figure size 432x288 with 1 Axes>"
      ]
     },
     "metadata": {},
     "output_type": "display_data"
    }
   ],
   "source": [
    "#Plot number of barcodes that should be 1 but are now 0\n",
    "sns.distplot(dropout)\n",
    "print(\"Average number of barcodes lost:\", np.mean(dropout))"
   ]
  },
  {
   "cell_type": "code",
   "execution_count": 11,
   "metadata": {},
   "outputs": [
    {
     "name": "stdout",
     "output_type": "stream",
     "text": [
      "Average FPP: 0.0009364646464646465\n"
     ]
    },
    {
     "data": {
      "image/png": "[encoded data removed]",
      "text/plain": [
       "<Figure size 432x288 with 1 Axes>"
      ]
     },
     "metadata": {},
     "output_type": "display_data"
    }
   ],
   "source": [
    "#Plot false positive probabilities\n",
    "sns.distplot(FPPs) #, kde=False)\n",
    "print(\"Average FPP:\", np.mean(FPPs))"
   ]
  },
  {
   "cell_type": "code",
   "execution_count": 12,
   "metadata": {},
   "outputs": [
    {
     "name": "stdout",
     "output_type": "stream",
     "text": [
      "Average FNP: 0.00196\n"
     ]
    },
    {
     "data": {
      "image/png": "[encoded data removed]",
      "text/plain": [
       "<Figure size 432x288 with 1 Axes>"
      ]
     },
     "metadata": {},
     "output_type": "display_data"
    }
   ],
   "source": [
    "#Plot false negative probabilities\n",
    "sns.distplot(FNPs, kde=False)\n",
    "print(\"Average FNP:\", np.mean(FNPs))"
   ]
  },
  {
   "cell_type": "markdown",
   "metadata": {},
   "source": [
    "# Results using the Discrete Lossless Encoder"
   ]
  },
  {
   "cell_type": "code",
   "execution_count": 13,
   "metadata": {},
   "outputs": [
    {
     "data": {
      "application/vnd.jupyter.widget-view+json": {
       "model_id": "",
       "version_major": 2,
       "version_minor": 0
      },
      "text/plain": [
       "HBox(children=(FloatProgress(value=0.0, description='Iterations complete', max=1000.0, style=ProgressStyle(des…"
      ]
     },
     "metadata": {},
     "output_type": "display_data"
    },
    {
     "name": "stdout",
     "output_type": "stream",
     "text": [
      "\n",
      "Average number of barcodes lost: 0.0\n",
      "Average FPP: 0.0\n",
      "Average FNP: 0.0\n"
     ]
    }
   ],
   "source": [
    "#Scenario 1, p=0.01\n",
    "simulated = calculateerrorsparallel(0, 1000, 10000, 100, 10000, 1, 1, dsynth, dstoch, setting, mean, std, goodreads, threshold, 1)\n",
    "print(\"Average number of barcodes lost:\", np.mean(simulated[0]))\n",
    "print(\"Average FPP:\", np.mean(simulated[1]))\n",
    "print(\"Average FNP:\", np.mean(simulated[2]))"
   ]
  },
  {
   "cell_type": "code",
   "execution_count": 14,
   "metadata": {},
   "outputs": [
    {
     "data": {
      "application/vnd.jupyter.widget-view+json": {
       "model_id": "",
       "version_major": 2,
       "version_minor": 0
      },
      "text/plain": [
       "HBox(children=(FloatProgress(value=0.0, description='Iterations complete', max=1000.0, style=ProgressStyle(des…"
      ]
     },
     "metadata": {},
     "output_type": "display_data"
    },
    {
     "name": "stdout",
     "output_type": "stream",
     "text": [
      "\n",
      "Average number of barcodes lost: 0.0\n",
      "Average FPP: 0.001115959595959596\n",
      "Average FNP: 0.0\n"
     ]
    }
   ],
   "source": [
    "#Scenario 2, p=0.01\n",
    "simulated = calculateerrorsparallel(0, 1000, 10000, 100, 10000, 5, 2, dsynth, dstoch, setting, mean, std, goodreads, threshold, 3)\n",
    "print(\"Average number of barcodes lost:\", np.mean(simulated[0]))\n",
    "print(\"Average FPP:\", np.mean(simulated[1]))\n",
    "print(\"Average FNP:\", np.mean(simulated[2]))"
   ]
  },
  {
   "cell_type": "markdown",
   "metadata": {},
   "source": [
    "# Results using the Discrete Lossy Encoder"
   ]
  },
  {
   "cell_type": "code",
   "execution_count": 15,
   "metadata": {},
   "outputs": [
    {
     "data": {
      "application/vnd.jupyter.widget-view+json": {
       "model_id": "",
       "version_major": 2,
       "version_minor": 0
      },
      "text/plain": [
       "HBox(children=(FloatProgress(value=0.0, description='Iterations complete', max=1000.0, style=ProgressStyle(des…"
      ]
     },
     "metadata": {},
     "output_type": "display_data"
    },
    {
     "name": "stdout",
     "output_type": "stream",
     "text": [
      "\n",
      "Average number of barcodes lost: 6.66\n",
      "Average FPP: 0.0\n",
      "Average FNP: 0.0666\n"
     ]
    }
   ],
   "source": [
    "#Scenario 1, dsynth = 0.01, dstoch = 0.05, p = 0.01\n",
    "simulated = calculateerrorsparallel(1, 1000, 10000, 100, 10000, 1, 1, 0.01, 0.05, setting, mean, std, goodreads, threshold, 1)\n",
    "print(\"Average number of barcodes lost:\", np.mean(simulated[0]))\n",
    "print(\"Average FPP:\", np.mean(simulated[1]))\n",
    "print(\"Average FNP:\", np.mean(simulated[2]))"
   ]
  },
  {
   "cell_type": "code",
   "execution_count": 16,
   "metadata": {},
   "outputs": [
    {
     "data": {
      "application/vnd.jupyter.widget-view+json": {
       "model_id": "",
       "version_major": 2,
       "version_minor": 0
      },
      "text/plain": [
       "HBox(children=(FloatProgress(value=0.0, description='Iterations complete', max=1000.0, style=ProgressStyle(des…"
      ]
     },
     "metadata": {},
     "output_type": "display_data"
    },
    {
     "name": "stdout",
     "output_type": "stream",
     "text": [
      "\n",
      "Average number of barcodes lost: 29.242\n",
      "Average FPP: 0.0009364646464646465\n",
      "Average FNP: 0.00196\n"
     ]
    }
   ],
   "source": [
    "#Scenario 2, dsynth = 0.01, dstoch = 0.05, p = 0.01\n",
    "simulated = calculateerrorsparallel(1, 1000, 10000, 100, 10000, 5, 2, 0.01, 0.05, setting, mean, std, goodreads, threshold, 3)\n",
    "print(\"Average number of barcodes lost:\", np.mean(simulated[0]))\n",
    "print(\"Average FPP:\", np.mean(simulated[1]))\n",
    "print(\"Average FNP:\", np.mean(simulated[2]))"
   ]
  },
  {
   "cell_type": "markdown",
   "metadata": {},
   "source": [
    "# Results using the Continuous Lossless Encoder, Scenario 1"
   ]
  },
  {
   "cell_type": "code",
   "execution_count": 17,
   "metadata": {},
   "outputs": [
    {
     "data": {
      "application/vnd.jupyter.widget-view+json": {
       "model_id": "",
       "version_major": 2,
       "version_minor": 0
      },
      "text/plain": [
       "HBox(children=(FloatProgress(value=0.0, description='Iterations complete', max=1000.0, style=ProgressStyle(des…"
      ]
     },
     "metadata": {},
     "output_type": "display_data"
    },
    {
     "name": "stdout",
     "output_type": "stream",
     "text": [
      "\n",
      "Average number of barcodes lost: 0.0\n",
      "Average FPP: 0.0\n",
      "Average FNP: 0.0\n"
     ]
    }
   ],
   "source": [
    "#Scenario 1, p = 0.01, setting = \"Sat\", threshold = 100\n",
    "simulated = calculateerrorsparallel(2, 1000, 10000, 100, 10000, 1, 1, dsynth, dstoch, \"Sat\", 10000, 1000, 18000000, 100, 1)\n",
    "print(\"Average number of barcodes lost:\", np.mean(simulated[0]))\n",
    "print(\"Average FPP:\", np.mean(simulated[1]))\n",
    "print(\"Average FNP:\", np.mean(simulated[2]))"
   ]
  },
  {
   "cell_type": "code",
   "execution_count": 18,
   "metadata": {},
   "outputs": [
    {
     "data": {
      "application/vnd.jupyter.widget-view+json": {
       "model_id": "",
       "version_major": 2,
       "version_minor": 0
      },
      "text/plain": [
       "HBox(children=(FloatProgress(value=0.0, description='Iterations complete', max=1000.0, style=ProgressStyle(des…"
      ]
     },
     "metadata": {},
     "output_type": "display_data"
    },
    {
     "name": "stdout",
     "output_type": "stream",
     "text": [
      "\n",
      "Average number of barcodes lost: 0.04\n",
      "Average FPP: 0.0\n",
      "Average FNP: 0.0004\n"
     ]
    }
   ],
   "source": [
    "#Scenario 1, p = 0.01, setting = \"Sat\", threshold = 100, with bigger std\n",
    "simulated = calculateerrorsparallel(2, 1000, 10000, 100, 10000, 1, 1, dsynth, dstoch, \"Sat\", 10000, 3000, 18000000, 100, 1)\n",
    "print(\"Average number of barcodes lost:\", np.mean(simulated[0]))\n",
    "print(\"Average FPP:\", np.mean(simulated[1]))\n",
    "print(\"Average FNP:\", np.mean(simulated[2]))"
   ]
  },
  {
   "cell_type": "code",
   "execution_count": 19,
   "metadata": {},
   "outputs": [
    {
     "data": {
      "application/vnd.jupyter.widget-view+json": {
       "model_id": "",
       "version_major": 2,
       "version_minor": 0
      },
      "text/plain": [
       "HBox(children=(FloatProgress(value=0.0, description='Iterations complete', max=1000.0, style=ProgressStyle(des…"
      ]
     },
     "metadata": {},
     "output_type": "display_data"
    },
    {
     "name": "stdout",
     "output_type": "stream",
     "text": [
      "\n",
      "Average number of barcodes lost: 2.264\n",
      "Average FPP: 0.0\n",
      "Average FNP: 0.022640000000000004\n"
     ]
    }
   ],
   "source": [
    "#Scenario 1, p = 0.01, setting = \"Sat\", threshold = 100, with even bigger std\n",
    "simulated = calculateerrorsparallel(2, 1000, 10000, 100, 10000, 1, 1, dsynth, dstoch, \"Sat\", 10000, 5000, 18000000, 100, 1)\n",
    "print(\"Average number of barcodes lost:\", np.mean(simulated[0]))\n",
    "print(\"Average FPP:\", np.mean(simulated[1]))\n",
    "print(\"Average FNP:\", np.mean(simulated[2]))"
   ]
  },
  {
   "cell_type": "code",
   "execution_count": 20,
   "metadata": {},
   "outputs": [
    {
     "data": {
      "application/vnd.jupyter.widget-view+json": {
       "model_id": "",
       "version_major": 2,
       "version_minor": 0
      },
      "text/plain": [
       "HBox(children=(FloatProgress(value=0.0, description='Iterations complete', max=1000.0, style=ProgressStyle(des…"
      ]
     },
     "metadata": {},
     "output_type": "display_data"
    },
    {
     "name": "stdout",
     "output_type": "stream",
     "text": [
      "\n",
      "Average number of barcodes lost: 0.712\n",
      "Average FPP: 0.0\n",
      "Average FNP: 0.0071200000000000005\n"
     ]
    }
   ],
   "source": [
    "#Scenario 1, p = 0.01, setting = \"Amp\", threshold = 2\n",
    "simulated = calculateerrorsparallel(2, 1000, 10000, 100, 10000, 1, 1, dsynth, dstoch, \"Amp\", 4.5, 3, 18000000, 2, 1)\n",
    "print(\"Average number of barcodes lost:\", np.mean(simulated[0]))\n",
    "print(\"Average FPP:\", np.mean(simulated[1]))\n",
    "print(\"Average FNP:\", np.mean(simulated[2]))"
   ]
  },
  {
   "cell_type": "code",
   "execution_count": 21,
   "metadata": {},
   "outputs": [
    {
     "data": {
      "application/vnd.jupyter.widget-view+json": {
       "model_id": "",
       "version_major": 2,
       "version_minor": 0
      },
      "text/plain": [
       "HBox(children=(FloatProgress(value=0.0, description='Iterations complete', max=1000.0, style=ProgressStyle(des…"
      ]
     },
     "metadata": {},
     "output_type": "display_data"
    },
    {
     "name": "stdout",
     "output_type": "stream",
     "text": [
      "\n",
      "Average number of barcodes lost: 2.814\n",
      "Average FPP: 0.0\n",
      "Average FNP: 0.028140000000000005\n"
     ]
    }
   ],
   "source": [
    "#Scenario 1, p = 0.01, setting = \"Amp\", threshold = 10\n",
    "simulated = calculateerrorsparallel(2, 1000, 10000, 100, 10000, 1, 1, dsynth, dstoch, \"Amp\", 4.5, 3, 18000000, 10, 1)\n",
    "print(\"Average number of barcodes lost:\", np.mean(simulated[0]))\n",
    "print(\"Average FPP:\", np.mean(simulated[1]))\n",
    "print(\"Average FNP:\", np.mean(simulated[2]))"
   ]
  },
  {
   "cell_type": "code",
   "execution_count": 22,
   "metadata": {},
   "outputs": [
    {
     "data": {
      "application/vnd.jupyter.widget-view+json": {
       "model_id": "",
       "version_major": 2,
       "version_minor": 0
      },
      "text/plain": [
       "HBox(children=(FloatProgress(value=0.0, description='Iterations complete', max=1000.0, style=ProgressStyle(des…"
      ]
     },
     "metadata": {},
     "output_type": "display_data"
    },
    {
     "name": "stdout",
     "output_type": "stream",
     "text": [
      "\n",
      "Average number of barcodes lost: 12.104\n",
      "Average FPP: 0.0\n",
      "Average FNP: 0.12104000000000002\n"
     ]
    }
   ],
   "source": [
    "#Scenario 1, p = 0.01, setting = \"Amp\", threshold = 100\n",
    "simulated = calculateerrorsparallel(2, 1000, 10000, 100, 10000, 1, 1, dsynth, dstoch, \"Amp\", 4.5, 3, 18000000, 100, 1)\n",
    "print(\"Average number of barcodes lost:\", np.mean(simulated[0]))\n",
    "print(\"Average FPP:\", np.mean(simulated[1]))\n",
    "print(\"Average FNP:\", np.mean(simulated[2]))"
   ]
  },
  {
   "cell_type": "markdown",
   "metadata": {},
   "source": [
    "# Results using the Continuous Lossless Encoder, Scenario 2"
   ]
  },
  {
   "cell_type": "code",
   "execution_count": 23,
   "metadata": {},
   "outputs": [
    {
     "data": {
      "application/vnd.jupyter.widget-view+json": {
       "model_id": "",
       "version_major": 2,
       "version_minor": 0
      },
      "text/plain": [
       "HBox(children=(FloatProgress(value=0.0, description='Iterations complete', max=1000.0, style=ProgressStyle(des…"
      ]
     },
     "metadata": {},
     "output_type": "display_data"
    },
    {
     "name": "stdout",
     "output_type": "stream",
     "text": [
      "\n",
      "Average number of barcodes lost: 0.0\n",
      "Average FPP: 0.0010626262626262629\n",
      "Average FNP: 0.0\n"
     ]
    }
   ],
   "source": [
    "#Scenario 2, p = 0.01, setting = \"Sat\", threshold = 100\n",
    "simulated = calculateerrorsparallel(2, 1000, 10000, 100, 10000, 5, 2, dsynth, dstoch, \"Sat\", 10000, 1000, 18000000, 100, 3)\n",
    "print(\"Average number of barcodes lost:\", np.mean(simulated[0]))\n",
    "print(\"Average FPP:\", np.mean(simulated[1]))\n",
    "print(\"Average FNP:\", np.mean(simulated[2]))"
   ]
  },
  {
   "cell_type": "code",
   "execution_count": 24,
   "metadata": {},
   "outputs": [
    {
     "data": {
      "application/vnd.jupyter.widget-view+json": {
       "model_id": "",
       "version_major": 2,
       "version_minor": 0
      },
      "text/plain": [
       "HBox(children=(FloatProgress(value=0.0, description='Iterations complete', max=1000.0, style=ProgressStyle(des…"
      ]
     },
     "metadata": {},
     "output_type": "display_data"
    },
    {
     "name": "stdout",
     "output_type": "stream",
     "text": [
      "\n",
      "Average number of barcodes lost: 0.193\n",
      "Average FPP: 0.0010617171717171717\n",
      "Average FNP: 0.00041000000000000005\n"
     ]
    }
   ],
   "source": [
    "#Scenario 2, p = 0.01, setting = \"Sat\", threshold = 100, with bigger std\n",
    "simulated = calculateerrorsparallel(2, 1000, 10000, 100, 10000, 5, 2, dsynth, dstoch, \"Sat\", 10000, 3000, 18000000, 100, 3)\n",
    "print(\"Average number of barcodes lost:\", np.mean(simulated[0]))\n",
    "print(\"Average FPP:\", np.mean(simulated[1]))\n",
    "print(\"Average FNP:\", np.mean(simulated[2]))"
   ]
  },
  {
   "cell_type": "code",
   "execution_count": 25,
   "metadata": {},
   "outputs": [
    {
     "data": {
      "application/vnd.jupyter.widget-view+json": {
       "model_id": "",
       "version_major": 2,
       "version_minor": 0
      },
      "text/plain": [
       "HBox(children=(FloatProgress(value=0.0, description='Iterations complete', max=1000.0, style=ProgressStyle(des…"
      ]
     },
     "metadata": {},
     "output_type": "display_data"
    },
    {
     "name": "stdout",
     "output_type": "stream",
     "text": [
      "\n",
      "Average number of barcodes lost: 10.948\n",
      "Average FPP: 0.0009903030303030302\n",
      "Average FNP: 0.022920000000000003\n"
     ]
    }
   ],
   "source": [
    "#Scenario 2, p = 0.01, setting = \"Sat\", threshold = 100, with even bigger std\n",
    "simulated = calculateerrorsparallel(2, 1000, 10000, 100, 10000, 5, 2, dsynth, dstoch, \"Sat\", 10000, 5000, 18000000, 100, 3)\n",
    "print(\"Average number of barcodes lost:\", np.mean(simulated[0]))\n",
    "print(\"Average FPP:\", np.mean(simulated[1]))\n",
    "print(\"Average FNP:\", np.mean(simulated[2]))"
   ]
  },
  {
   "cell_type": "code",
   "execution_count": 26,
   "metadata": {},
   "outputs": [
    {
     "data": {
      "application/vnd.jupyter.widget-view+json": {
       "model_id": "",
       "version_major": 2,
       "version_minor": 0
      },
      "text/plain": [
       "HBox(children=(FloatProgress(value=0.0, description='Iterations complete', max=1000.0, style=ProgressStyle(des…"
      ]
     },
     "metadata": {},
     "output_type": "display_data"
    },
    {
     "name": "stdout",
     "output_type": "stream",
     "text": [
      "\n",
      "Average number of barcodes lost: 13.441\n",
      "Average FNP: 0.028120000000000006\n"
     ]
    }
   ],
   "source": [
    "#Scenario 2, p = 0.01, setting = \"Amp\", threshold = 2\n",
    "simulated = calculateerrorsparallel(2, 1000, 10000, 100, 10000, 5, 2, dsynth, dstoch, \"Amp\", 4.5, 3, 18000000, 2, 3)\n",
    "print(\"Average number of barcodes lost:\", np.mean(simulated[0]))\n",
    "print(\"Average FNP:\", np.mean(simulated[2]))"
   ]
  },
  {
   "cell_type": "code",
   "execution_count": 27,
   "metadata": {},
   "outputs": [
    {
     "data": {
      "application/vnd.jupyter.widget-view+json": {
       "model_id": "",
       "version_major": 2,
       "version_minor": 0
      },
      "text/plain": [
       "HBox(children=(FloatProgress(value=0.0, description='Iterations complete', max=1000.0, style=ProgressStyle(des…"
      ]
     },
     "metadata": {},
     "output_type": "display_data"
    },
    {
     "name": "stdout",
     "output_type": "stream",
     "text": [
      "\n",
      "Average number of barcodes lost: 39.397\n",
      "Average FPP: 0.0008455555555555557\n",
      "Average FNP: 0.08252000000000001\n"
     ]
    }
   ],
   "source": [
    "#Scenario 2, p = 0.01, setting = \"Amp\", threshold = 10\n",
    "simulated = calculateerrorsparallel(2, 1000, 10000, 100, 10000, 5, 2, dsynth, dstoch, \"Amp\", 4.5, 3, 18000000, 10, 3)\n",
    "print(\"Average number of barcodes lost:\", np.mean(simulated[0]))\n",
    "print(\"Average FPP:\", np.mean(simulated[1]))\n",
    "print(\"Average FNP:\", np.mean(simulated[2]))"
   ]
  },
  {
   "cell_type": "code",
   "execution_count": 28,
   "metadata": {},
   "outputs": [
    {
     "data": {
      "application/vnd.jupyter.widget-view+json": {
       "model_id": "",
       "version_major": 2,
       "version_minor": 0
      },
      "text/plain": [
       "HBox(children=(FloatProgress(value=0.0, description='Iterations complete', max=1000.0, style=ProgressStyle(des…"
      ]
     },
     "metadata": {},
     "output_type": "display_data"
    },
    {
     "name": "stdout",
     "output_type": "stream",
     "text": [
      "\n",
      "Average number of barcodes lost: 123.4\n",
      "Average FPP: 0.0004696969696969697\n",
      "Average FNP: 0.25758000000000003\n"
     ]
    }
   ],
   "source": [
    "#Scenario 2, p = 0.01, setting = \"Amp\", threshold = 100\n",
    "simulated = calculateerrorsparallel(2, 1000, 10000, 100, 10000, 5, 2, dsynth, dstoch, \"Amp\", 4.5, 3, 18000000, 100, 3)\n",
    "print(\"Average number of barcodes lost:\", np.mean(simulated[0]))\n",
    "print(\"Average FPP:\", np.mean(simulated[1]))\n",
    "print(\"Average FNP:\", np.mean(simulated[2]))"
   ]
  },
  {
   "cell_type": "markdown",
   "metadata": {},
   "source": [
    "# Results using the Continuous Lossy Encoder"
   ]
  },
  {
   "cell_type": "code",
   "execution_count": 29,
   "metadata": {},
   "outputs": [
    {
     "data": {
      "application/vnd.jupyter.widget-view+json": {
       "model_id": "",
       "version_major": 2,
       "version_minor": 0
      },
      "text/plain": [
       "HBox(children=(FloatProgress(value=0.0, description='Iterations complete', max=1000.0, style=ProgressStyle(des…"
      ]
     },
     "metadata": {},
     "output_type": "display_data"
    },
    {
     "name": "stdout",
     "output_type": "stream",
     "text": [
      "\n",
      "Average number of barcodes lost: 6.644\n",
      "Average FPP: 0.0\n",
      "Average FNP: 0.06644000000000001\n"
     ]
    }
   ],
   "source": [
    "#Scenario 1, p = 0.01, setting = \"Sat\", threshold = 10, dsynth = 0.01, dstoch = 0.05\n",
    "simulated = calculateerrorsparallel(3, 1000, 10000, 100, 10000, 1, 1, 0.01, 0.05, \"Sat\", 10000, 1000, 18000000, 10, 1)\n",
    "print(\"Average number of barcodes lost:\", np.mean(simulated[0]))\n",
    "print(\"Average FPP:\", np.mean(simulated[1]))\n",
    "print(\"Average FNP:\", np.mean(simulated[2]))"
   ]
  },
  {
   "cell_type": "code",
   "execution_count": 30,
   "metadata": {},
   "outputs": [
    {
     "data": {
      "application/vnd.jupyter.widget-view+json": {
       "model_id": "",
       "version_major": 2,
       "version_minor": 0
      },
      "text/plain": [
       "HBox(children=(FloatProgress(value=0.0, description='Iterations complete', max=1000.0, style=ProgressStyle(des…"
      ]
     },
     "metadata": {},
     "output_type": "display_data"
    },
    {
     "name": "stdout",
     "output_type": "stream",
     "text": [
      "\n",
      "Average number of barcodes lost: 9.184\n",
      "Average FPP: 0.0\n",
      "Average FNP: 0.09184000000000003\n"
     ]
    }
   ],
   "source": [
    "#Scenario 1, p = 0.01, setting = \"Amp\", threshold = 10, dsynth = 0.01, dstoch = 0.05\n",
    "simulated = calculateerrorsparallel(3, 1000, 10000, 100, 10000, 1, 1, 0.01, 0.05, \"Amp\", 4.5, 3, 18000000, 10, 1)\n",
    "print(\"Average number of barcodes lost:\", np.mean(simulated[0]))\n",
    "print(\"Average FPP:\", np.mean(simulated[1]))\n",
    "print(\"Average FNP:\", np.mean(simulated[2]))"
   ]
  },
  {
   "cell_type": "code",
   "execution_count": 31,
   "metadata": {},
   "outputs": [
    {
     "data": {
      "application/vnd.jupyter.widget-view+json": {
       "model_id": "",
       "version_major": 2,
       "version_minor": 0
      },
      "text/plain": [
       "HBox(children=(FloatProgress(value=0.0, description='Iterations complete', max=1000.0, style=ProgressStyle(des…"
      ]
     },
     "metadata": {},
     "output_type": "display_data"
    },
    {
     "name": "stdout",
     "output_type": "stream",
     "text": [
      "\n",
      "Average number of barcodes lost: 29.144\n",
      "Average FPP: 0.0008816161616161616\n",
      "Average FNP: 0.0025999999999999994\n"
     ]
    }
   ],
   "source": [
    "#Scenario 2, p = 0.01, setting = \"Sat\", threshold = 10, dsynth = 0.01, dstoch = 0.05\n",
    "simulated = calculateerrorsparallel(3, 1000, 10000, 100, 10000, 5, 2, 0.01, 0.05, \"Sat\", 10000, 1000, 18000000, 10, 3)\n",
    "print(\"Average number of barcodes lost:\", np.mean(simulated[0]))\n",
    "print(\"Average FPP:\", np.mean(simulated[1]))\n",
    "print(\"Average FNP:\", np.mean(simulated[2]))"
   ]
  },
  {
   "cell_type": "code",
   "execution_count": 32,
   "metadata": {},
   "outputs": [
    {
     "data": {
      "application/vnd.jupyter.widget-view+json": {
       "model_id": "",
       "version_major": 2,
       "version_minor": 0
      },
      "text/plain": [
       "HBox(children=(FloatProgress(value=0.0, description='Iterations complete', max=1000.0, style=ProgressStyle(des…"
      ]
     },
     "metadata": {},
     "output_type": "display_data"
    },
    {
     "name": "stdout",
     "output_type": "stream",
     "text": [
      "\n",
      "Average number of barcodes lost: 65.051\n",
      "Average FPP: 0.0007078787878787878\n",
      "Average FNP: 0.08238000000000001\n"
     ]
    }
   ],
   "source": [
    "#Scenario 2, p = 0.01, setting = \"Amp\", threshold = 10, dsynth = 0.01, dstoch = 0.05\n",
    "simulated = calculateerrorsparallel(3, 1000, 10000, 100, 10000, 5, 2, 0.01, 0.05, \"Amp\", 4.5, 3, 18000000, 10, 3)\n",
    "print(\"Average number of barcodes lost:\", np.mean(simulated[0]))\n",
    "print(\"Average FPP:\", np.mean(simulated[1]))\n",
    "print(\"Average FNP:\", np.mean(simulated[2]))"
   ]
  }
 ],
 "metadata": {
  "kernelspec": {
   "display_name": "Python 3",
   "language": "python",
   "name": "python3"
  },
  "language_info": {
   "codemirror_mode": {
    "name": "ipython",
    "version": 3
   },
   "file_extension": ".py",
   "mimetype": "text/x-python",
   "name": "python",
   "nbconvert_exporter": "python",
   "pygments_lexer": "ipython3",
   "version": "3.7.0"
  }
 },
 "nbformat": 4,
 "nbformat_minor": 2
}
